{
 "cells": [
  {
   "cell_type": "code",
   "execution_count": 1,
   "metadata": {},
   "outputs": [],
   "source": [
    "import sys\n",
    "import os\n",
    "import math\n",
    "from matplotlib.lines import Line2D\n",
    "import pandas as pd\n",
    "import numpy as np\n",
    "import matplotlib.pyplot as plt\n",
    "from scipy.stats import linregress\n",
    "import geodatasets\n",
    "import geopandas as gpd\n",
    "import re\n",
    "import folium\n",
    "from folium import plugins\n",
    "import earthpy as et\n",
    "import webbrowser\n",
    "from matplotlib.colors import LogNorm, Normalize\n",
    "from matplotlib import rcParams, font_manager\n",
    "from matplotlib.cm import get_cmap\n",
    "from branca.colormap import LinearColormap\n",
    "import statsmodels.api as sm\n",
    "from scipy.stats import norm\n",
    "import elevation\n",
    "import shapely.geometry\n",
    "from shapely.geometry import Point, box, Polygon, MultiPolygon\n",
    "import seaborn as sns\n",
    "from shapely.wkt import loads\n",
    "from mpl_toolkits.mplot3d import Axes3D\n",
    "import plotly.graph_objs as go\n",
    "import plotly.io as pio\n",
    "import plotly.express as px\n",
    "import rasterio\n",
    "from rasterio.plot import show\n",
    "from rasterio.warp import reproject, Resampling, calculate_default_transform\n",
    "from rasterio.transform import from_bounds, from_origin\n",
    "from rasterio.mask import mask\n",
    "import earthpy.spatial as es\n",
    "from scipy.interpolate import RegularGridInterpolator\n",
    "from matplotlib.backends.backend_pdf import PdfPages\n",
    "import streamlit as st\n",
    "import matplotlib.colors as mcolors\n",
    "import PyCO2SYS as cs\n"
   ]
  },
  {
   "cell_type": "code",
   "execution_count": null,
   "metadata": {},
   "outputs": [],
   "source": [
    "\n",
    "df = pd.read_excel('/Users/enrico/Desktop/Part III Project/Code/Nepal-1/Datasets/Trav_3_data_Final.xlsx')\n",
    "\n",
    "df_copy = df.copy()"
   ]
  }
 ],
 "metadata": {
  "kernelspec": {
   "display_name": "3.9.13",
   "language": "python",
   "name": "python3"
  },
  "language_info": {
   "codemirror_mode": {
    "name": "ipython",
    "version": 3
   },
   "file_extension": ".py",
   "mimetype": "text/x-python",
   "name": "python",
   "nbconvert_exporter": "python",
   "pygments_lexer": "ipython3",
   "version": "3.9.13"
  }
 },
 "nbformat": 4,
 "nbformat_minor": 2
}
