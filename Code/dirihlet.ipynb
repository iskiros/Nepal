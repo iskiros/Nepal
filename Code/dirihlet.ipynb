{
 "cells": [
  {
   "cell_type": "code",
   "execution_count": 4,
   "metadata": {},
   "outputs": [],
   "source": [
    "import numpy as np\n",
    "import pandas as pd\n",
    "import matplotlib.pyplot as plt\n",
    "from scipy.optimize import minimize\n"
   ]
  },
  {
   "cell_type": "code",
   "execution_count": 5,
   "metadata": {},
   "outputs": [
    {
     "ename": "FileNotFoundError",
     "evalue": "[Errno 2] No such file or directory: 'Datasets/Nepal Master Sheet.xlsx'",
     "output_type": "error",
     "traceback": [
      "\u001b[0;31m---------------------------------------------------------------------------\u001b[0m",
      "\u001b[0;31mFileNotFoundError\u001b[0m                         Traceback (most recent call last)",
      "Cell \u001b[0;32mIn[5], line 2\u001b[0m\n\u001b[1;32m      1\u001b[0m \u001b[38;5;66;03m# Load data\u001b[39;00m\n\u001b[0;32m----> 2\u001b[0m df2 \u001b[38;5;241m=\u001b[39m \u001b[43mpd\u001b[49m\u001b[38;5;241;43m.\u001b[39;49m\u001b[43mread_excel\u001b[49m\u001b[43m(\u001b[49m\u001b[38;5;124;43m'\u001b[39;49m\u001b[38;5;124;43mDatasets/Nepal Master Sheet.xlsx\u001b[39;49m\u001b[38;5;124;43m'\u001b[39;49m\u001b[43m,\u001b[49m\u001b[43m \u001b[49m\u001b[43msheet_name\u001b[49m\u001b[38;5;241;43m=\u001b[39;49m\u001b[38;5;124;43m'\u001b[39;49m\u001b[38;5;124;43mFinal_compiled\u001b[39;49m\u001b[38;5;124;43m'\u001b[39;49m\u001b[43m)\u001b[49m\n\u001b[1;32m      3\u001b[0m df \u001b[38;5;241m=\u001b[39m df2\u001b[38;5;241m.\u001b[39mcopy()\n\u001b[1;32m      7\u001b[0m \u001b[38;5;66;03m# Define Traverse assignment function (same as before)\u001b[39;00m\n",
      "File \u001b[0;32m~/.pyenv/versions/3.9.13/lib/python3.9/site-packages/pandas/io/excel/_base.py:495\u001b[0m, in \u001b[0;36mread_excel\u001b[0;34m(io, sheet_name, header, names, index_col, usecols, dtype, engine, converters, true_values, false_values, skiprows, nrows, na_values, keep_default_na, na_filter, verbose, parse_dates, date_parser, date_format, thousands, decimal, comment, skipfooter, storage_options, dtype_backend, engine_kwargs)\u001b[0m\n\u001b[1;32m    493\u001b[0m \u001b[38;5;28;01mif\u001b[39;00m \u001b[38;5;129;01mnot\u001b[39;00m \u001b[38;5;28misinstance\u001b[39m(io, ExcelFile):\n\u001b[1;32m    494\u001b[0m     should_close \u001b[38;5;241m=\u001b[39m \u001b[38;5;28;01mTrue\u001b[39;00m\n\u001b[0;32m--> 495\u001b[0m     io \u001b[38;5;241m=\u001b[39m \u001b[43mExcelFile\u001b[49m\u001b[43m(\u001b[49m\n\u001b[1;32m    496\u001b[0m \u001b[43m        \u001b[49m\u001b[43mio\u001b[49m\u001b[43m,\u001b[49m\n\u001b[1;32m    497\u001b[0m \u001b[43m        \u001b[49m\u001b[43mstorage_options\u001b[49m\u001b[38;5;241;43m=\u001b[39;49m\u001b[43mstorage_options\u001b[49m\u001b[43m,\u001b[49m\n\u001b[1;32m    498\u001b[0m \u001b[43m        \u001b[49m\u001b[43mengine\u001b[49m\u001b[38;5;241;43m=\u001b[39;49m\u001b[43mengine\u001b[49m\u001b[43m,\u001b[49m\n\u001b[1;32m    499\u001b[0m \u001b[43m        \u001b[49m\u001b[43mengine_kwargs\u001b[49m\u001b[38;5;241;43m=\u001b[39;49m\u001b[43mengine_kwargs\u001b[49m\u001b[43m,\u001b[49m\n\u001b[1;32m    500\u001b[0m \u001b[43m    \u001b[49m\u001b[43m)\u001b[49m\n\u001b[1;32m    501\u001b[0m \u001b[38;5;28;01melif\u001b[39;00m engine \u001b[38;5;129;01mand\u001b[39;00m engine \u001b[38;5;241m!=\u001b[39m io\u001b[38;5;241m.\u001b[39mengine:\n\u001b[1;32m    502\u001b[0m     \u001b[38;5;28;01mraise\u001b[39;00m \u001b[38;5;167;01mValueError\u001b[39;00m(\n\u001b[1;32m    503\u001b[0m         \u001b[38;5;124m\"\u001b[39m\u001b[38;5;124mEngine should not be specified when passing \u001b[39m\u001b[38;5;124m\"\u001b[39m\n\u001b[1;32m    504\u001b[0m         \u001b[38;5;124m\"\u001b[39m\u001b[38;5;124man ExcelFile - ExcelFile already has the engine set\u001b[39m\u001b[38;5;124m\"\u001b[39m\n\u001b[1;32m    505\u001b[0m     )\n",
      "File \u001b[0;32m~/.pyenv/versions/3.9.13/lib/python3.9/site-packages/pandas/io/excel/_base.py:1550\u001b[0m, in \u001b[0;36mExcelFile.__init__\u001b[0;34m(self, path_or_buffer, engine, storage_options, engine_kwargs)\u001b[0m\n\u001b[1;32m   1548\u001b[0m     ext \u001b[38;5;241m=\u001b[39m \u001b[38;5;124m\"\u001b[39m\u001b[38;5;124mxls\u001b[39m\u001b[38;5;124m\"\u001b[39m\n\u001b[1;32m   1549\u001b[0m \u001b[38;5;28;01melse\u001b[39;00m:\n\u001b[0;32m-> 1550\u001b[0m     ext \u001b[38;5;241m=\u001b[39m \u001b[43minspect_excel_format\u001b[49m\u001b[43m(\u001b[49m\n\u001b[1;32m   1551\u001b[0m \u001b[43m        \u001b[49m\u001b[43mcontent_or_path\u001b[49m\u001b[38;5;241;43m=\u001b[39;49m\u001b[43mpath_or_buffer\u001b[49m\u001b[43m,\u001b[49m\u001b[43m \u001b[49m\u001b[43mstorage_options\u001b[49m\u001b[38;5;241;43m=\u001b[39;49m\u001b[43mstorage_options\u001b[49m\n\u001b[1;32m   1552\u001b[0m \u001b[43m    \u001b[49m\u001b[43m)\u001b[49m\n\u001b[1;32m   1553\u001b[0m     \u001b[38;5;28;01mif\u001b[39;00m ext \u001b[38;5;129;01mis\u001b[39;00m \u001b[38;5;28;01mNone\u001b[39;00m:\n\u001b[1;32m   1554\u001b[0m         \u001b[38;5;28;01mraise\u001b[39;00m \u001b[38;5;167;01mValueError\u001b[39;00m(\n\u001b[1;32m   1555\u001b[0m             \u001b[38;5;124m\"\u001b[39m\u001b[38;5;124mExcel file format cannot be determined, you must specify \u001b[39m\u001b[38;5;124m\"\u001b[39m\n\u001b[1;32m   1556\u001b[0m             \u001b[38;5;124m\"\u001b[39m\u001b[38;5;124man engine manually.\u001b[39m\u001b[38;5;124m\"\u001b[39m\n\u001b[1;32m   1557\u001b[0m         )\n",
      "File \u001b[0;32m~/.pyenv/versions/3.9.13/lib/python3.9/site-packages/pandas/io/excel/_base.py:1402\u001b[0m, in \u001b[0;36minspect_excel_format\u001b[0;34m(content_or_path, storage_options)\u001b[0m\n\u001b[1;32m   1399\u001b[0m \u001b[38;5;28;01mif\u001b[39;00m \u001b[38;5;28misinstance\u001b[39m(content_or_path, \u001b[38;5;28mbytes\u001b[39m):\n\u001b[1;32m   1400\u001b[0m     content_or_path \u001b[38;5;241m=\u001b[39m BytesIO(content_or_path)\n\u001b[0;32m-> 1402\u001b[0m \u001b[38;5;28;01mwith\u001b[39;00m \u001b[43mget_handle\u001b[49m\u001b[43m(\u001b[49m\n\u001b[1;32m   1403\u001b[0m \u001b[43m    \u001b[49m\u001b[43mcontent_or_path\u001b[49m\u001b[43m,\u001b[49m\u001b[43m \u001b[49m\u001b[38;5;124;43m\"\u001b[39;49m\u001b[38;5;124;43mrb\u001b[39;49m\u001b[38;5;124;43m\"\u001b[39;49m\u001b[43m,\u001b[49m\u001b[43m \u001b[49m\u001b[43mstorage_options\u001b[49m\u001b[38;5;241;43m=\u001b[39;49m\u001b[43mstorage_options\u001b[49m\u001b[43m,\u001b[49m\u001b[43m \u001b[49m\u001b[43mis_text\u001b[49m\u001b[38;5;241;43m=\u001b[39;49m\u001b[38;5;28;43;01mFalse\u001b[39;49;00m\n\u001b[1;32m   1404\u001b[0m \u001b[43m\u001b[49m\u001b[43m)\u001b[49m \u001b[38;5;28;01mas\u001b[39;00m handle:\n\u001b[1;32m   1405\u001b[0m     stream \u001b[38;5;241m=\u001b[39m handle\u001b[38;5;241m.\u001b[39mhandle\n\u001b[1;32m   1406\u001b[0m     stream\u001b[38;5;241m.\u001b[39mseek(\u001b[38;5;241m0\u001b[39m)\n",
      "File \u001b[0;32m~/.pyenv/versions/3.9.13/lib/python3.9/site-packages/pandas/io/common.py:882\u001b[0m, in \u001b[0;36mget_handle\u001b[0;34m(path_or_buf, mode, encoding, compression, memory_map, is_text, errors, storage_options)\u001b[0m\n\u001b[1;32m    873\u001b[0m         handle \u001b[38;5;241m=\u001b[39m \u001b[38;5;28mopen\u001b[39m(\n\u001b[1;32m    874\u001b[0m             handle,\n\u001b[1;32m    875\u001b[0m             ioargs\u001b[38;5;241m.\u001b[39mmode,\n\u001b[0;32m   (...)\u001b[0m\n\u001b[1;32m    878\u001b[0m             newline\u001b[38;5;241m=\u001b[39m\u001b[38;5;124m\"\u001b[39m\u001b[38;5;124m\"\u001b[39m,\n\u001b[1;32m    879\u001b[0m         )\n\u001b[1;32m    880\u001b[0m     \u001b[38;5;28;01melse\u001b[39;00m:\n\u001b[1;32m    881\u001b[0m         \u001b[38;5;66;03m# Binary mode\u001b[39;00m\n\u001b[0;32m--> 882\u001b[0m         handle \u001b[38;5;241m=\u001b[39m \u001b[38;5;28;43mopen\u001b[39;49m\u001b[43m(\u001b[49m\u001b[43mhandle\u001b[49m\u001b[43m,\u001b[49m\u001b[43m \u001b[49m\u001b[43mioargs\u001b[49m\u001b[38;5;241;43m.\u001b[39;49m\u001b[43mmode\u001b[49m\u001b[43m)\u001b[49m\n\u001b[1;32m    883\u001b[0m     handles\u001b[38;5;241m.\u001b[39mappend(handle)\n\u001b[1;32m    885\u001b[0m \u001b[38;5;66;03m# Convert BytesIO or file objects passed with an encoding\u001b[39;00m\n",
      "\u001b[0;31mFileNotFoundError\u001b[0m: [Errno 2] No such file or directory: 'Datasets/Nepal Master Sheet.xlsx'"
     ]
    }
   ],
   "source": [
    "\n",
    "# Load data\n",
    "df2 = pd.read_excel('Datasets/Nepal Master Sheet.xlsx', sheet_name='Final_compiled')\n",
    "df = df2.copy()\n",
    "\n",
    "\n",
    "\n",
    "# Define Traverse assignment function (same as before)\n",
    "def assign_traverse(gns):\n",
    "    if not isinstance(gns, str):  # Handle non-string values\n",
    "        return None\n",
    "    gns = gns.split('22')[0].split('23')[0].strip(\"'\").strip('\"')\n",
    "    if gns.startswith(\"S1\"):\n",
    "        return \"Traverse 1*\" if gns in [\"S1m\", \"S1i\"] else \"Traverse 1\"\n",
    "    elif gns.startswith(\"S2\"):\n",
    "        return \"Traverse 2\"\n",
    "    elif gns.startswith(\"S3\"):\n",
    "        if gns in [\"S3k\", \"S3m\", \"S3u\", \"S3s\", \"S3ag\", \"S3ad\"]:\n",
    "            return \"Traverse 4\"\n",
    "        elif gns in [\"S3y\", \"S3ae\"]:\n",
    "            return \"Traverse 3*\"\n",
    "        return \"Traverse 3\"\n",
    "    elif gns.startswith(\"S4\"):\n",
    "        return \"Traverse 5*\" if gns in [\"S4m\", \"S4l\"] else \"Traverse 5\"\n",
    "    return None\n",
    "\n",
    "\n",
    "\n",
    "df[\"Traverse\"] = df[\"GNS\"].apply(assign_traverse)\n",
    "df = df[df[\"Traverse\"] == \"Traverse 3\"]"
   ]
  },
  {
   "cell_type": "code",
   "execution_count": null,
   "metadata": {},
   "outputs": [],
   "source": [
    "\n",
    "\n",
    "\n",
    "# Convert Li concentrations to millimolar\n",
    "df['Li_mM'] = df['Li_ppm'] / 6.94\n",
    "\n",
    "# Convert Li concentrations to nanomolar\n",
    "df['Li_nM'] = df['Li_ppm'] * 1000000 / 6.94\n",
    "\n",
    "# Convert Li concentrations to mol/m^3 (from nM)\n",
    "df['Li_mol_m3'] = df['Li_nM'] * 1e-6  # Convert nM to mol/m^3\n"
   ]
  },
  {
   "cell_type": "code",
   "execution_count": null,
   "metadata": {},
   "outputs": [],
   "source": [
    "\n",
    "# Normalize z': Assign z'=1 to the maximum concentration\n",
    "min_Li = df[\"Li_mol_m3\"].min()\n",
    "max_Li = df[\"Li_mol_m3\"].max()\n",
    "\n",
    "df[\"z'\"] = (df[\"Li_mol_m3\"] - min_Li) / (max_Li - min_Li)\n",
    "\n",
    "\n",
    "\n",
    "\n",
    "\n",
    "\n",
    "# Reaction rate constant k (log10 form) and unit conversion\n",
    "log_k = -11.2  # Example log10 k value\n",
    "k = np.exp(log_k)  # Convert to mol/m^2/s\n",
    "A_s = 1  # Assume unit specific surface area for simplicity\n",
    "\n"
   ]
  },
  {
   "cell_type": "code",
   "execution_count": null,
   "metadata": {},
   "outputs": [],
   "source": [
    "\n",
    "\n",
    "# Function to calculate N_D\n",
    "def calculate_ND(phi, t, C0, k, A_s):\n",
    "    \"\"\"\n",
    "    Calculate the Damköhler number N_D.\n",
    "    phi: porosity\n",
    "    t: time (h/w, in seconds)\n",
    "    C0: initial concentration (in mol/m^3)\n",
    "    k: reaction rate constant (in mol/m^2/s)\n",
    "    A_s: specific surface area (in m^2/m^3)\n",
    "    \"\"\"\n",
    "    return t * k * A_s / (phi * C0)\n",
    "\n",
    "\n",
    "\n",
    "def EE(z, N_D, f, C0):\n",
    "    \"\"\"\n",
    "    Explicit Euler method to solve for C' as a function of z'.\n",
    "    \n",
    "    Parameters:\n",
    "        z: array of nondimensional distances (z')\n",
    "        N_D: Damköhler number\n",
    "        f: reaction fraction\n",
    "        C0: initial concentration (C' at z'=0)\n",
    "    \n",
    "    Returns:\n",
    "        C: array of concentrations at each z'\n",
    "    \"\"\"\n",
    "    dz = z[1] - z[0]  # Step size in nondimensional distance\n",
    "    C = np.zeros_like(z)  # Initialize concentration array\n",
    "    C[0] = C0  # Set initial concentration\n",
    "    \n",
    "    for i in range(1, len(z)):\n",
    "        # Update concentration using Explicit Euler formula\n",
    "        C[i] = C[i-1] + dz * N_D * (1 - f)\n",
    "    \n",
    "    return C\n",
    "\n",
    "\n"
   ]
  },
  {
   "cell_type": "code",
   "execution_count": null,
   "metadata": {},
   "outputs": [],
   "source": [
    "\n",
    "# Objective function for optimization\n",
    "def objective(params):\n",
    "    phi, t = params  # Unpack porosity and time (h/w)\n",
    "    f = 0.5  # Known fraction of reaction\n",
    "    z = np.linspace(0, 1, 100)  # Nondimensional grid\n",
    "    C0 = df[\"Li_mol_m3\"].min()  # Initial concentration in mol/m^3\n",
    "    N_D = calculate_ND(phi, t, C0, k, A_s)  # Calculate N_D\n",
    "    C_model = EE(z, N_D, f, C0)\n",
    "    C_model_interp = np.interp(df[\"z'\"], z, C_model)  # Interpolate to match data\n",
    "    return np.sum((C_model_interp - df[\"Li_mol_m3\"])**2)  # Minimize squared error\n",
    "\n"
   ]
  },
  {
   "cell_type": "code",
   "execution_count": null,
   "metadata": {},
   "outputs": [],
   "source": [
    "\n",
    "# Initial guesses for porosity and time (h/w)\n",
    "initial_guess = [0.07, 25 * 365 * 24 * 3600]  # 25 years in seconds\n",
    "\n",
    "\n",
    "\n",
    "# Perform optimization\n",
    "result = minimize(objective, initial_guess, bounds=[(0.01, 0.1), (1e7, 1e10)])\n",
    "phi_fit, t_fit = result.x\n",
    "\n",
    "\n",
    "\n",
    "# Simulate with fitted parameters\n",
    "C0_fit = df['Li_mol_m3'].min()\n",
    "N_D_fit = calculate_ND(phi_fit, t_fit, C0_fit, k, A_s)\n",
    "z_fine = np.linspace(0, 1, 100)\n",
    "C_fit = EE(z_fine, N_D_fit, 0.5, C0_fit)\n",
    "\n"
   ]
  },
  {
   "cell_type": "code",
   "execution_count": null,
   "metadata": {},
   "outputs": [],
   "source": [
    "\n",
    "# Plot results\n",
    "plt.figure(figsize=(8, 6))\n",
    "plt.scatter(df[\"z'\"], df[\"Li_mol_m3\"] / 1e3, label=\"Data (mM)\", color=\"blue\")  # Convert data to mM for comparison\n",
    "plt.plot(z_fine, C_fit, label=f\"Fitted Model: $N_D={N_D_fit:.2e}$, $\\\\phi={phi_fit:.2f}, t={t_fit/365/24/3600:.1f}$ years\", color=\"red\")\n",
    "plt.xlabel(\"Nondimensional Distance ($z'$)\")\n",
    "plt.ylabel(\"Concentration ($Li_{mol/m^3}$)\")\n",
    "plt.title(\"Steady-State Model Fitting\")\n",
    "plt.legend()\n",
    "plt.grid()\n",
    "plt.show()\n",
    "\n",
    "# Print fitted parameters\n",
    "print(f\"Fitted Porosity (phi): {phi_fit:.2f}\")\n",
    "print(f\"Fitted Time (t): {t_fit/365/24/3600:.1f} years\")\n",
    "print(f\"Calculated N_D: {N_D_fit:.2e}\")\n"
   ]
  }
 ],
 "metadata": {
  "kernelspec": {
   "display_name": "Python 3",
   "language": "python",
   "name": "python3"
  },
  "language_info": {
   "codemirror_mode": {
    "name": "ipython",
    "version": 3
   },
   "file_extension": ".py",
   "mimetype": "text/x-python",
   "name": "python",
   "nbconvert_exporter": "python",
   "pygments_lexer": "ipython3",
   "version": "3.9.13"
  }
 },
 "nbformat": 4,
 "nbformat_minor": 2
}
